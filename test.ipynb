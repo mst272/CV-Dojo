{
 "cells": [
  {
   "cell_type": "code",
   "execution_count": 1,
   "id": "initial_id",
   "metadata": {
    "collapsed": true,
    "ExecuteTime": {
     "end_time": "2024-02-27T09:32:20.101823700Z",
     "start_time": "2024-02-27T09:32:13.137889Z"
    }
   },
   "outputs": [],
   "source": [
    "import torch\n",
    "input = torch.rand((8,2,256,256))"
   ]
  },
  {
   "cell_type": "code",
   "execution_count": 7,
   "outputs": [
    {
     "name": "stdout",
     "output_type": "stream",
     "text": [
      "torch.Size([524288, 2])\n"
     ]
    },
    {
     "name": "stderr",
     "output_type": "stream",
     "text": [
      "C:\\Users\\user01\\AppData\\Local\\Temp\\ipykernel_21480\\3538703934.py:10: UserWarning: Implicit dimension choice for log_softmax has been deprecated. Change the call to include dim=X as an argument.\n",
      "  input = F.log_softmax(input)\n"
     ]
    }
   ],
   "source": [
    "import torch.nn.functional as F\n",
    "# N,C,H,W => N,C,H*W\n",
    "input = input.contiguous().view(input.size(0), input.size(1), -1)\n",
    "\n",
    "# N,C,H*W => N,H*W,C\n",
    "input = input.transpose(1, 2)\n",
    "\n",
    "# N,H*W,C => N*H*W,C\n",
    "input = input.contiguous().view(-1, input.size(2))\n",
    "input = F.log_softmax(input)\n",
    "print(input.shape)"
   ],
   "metadata": {
    "collapsed": false,
    "ExecuteTime": {
     "end_time": "2024-02-27T09:48:31.484618100Z",
     "start_time": "2024-02-27T09:48:31.419303200Z"
    }
   },
   "id": "89c5050a90394c50"
  },
  {
   "cell_type": "code",
   "execution_count": 14,
   "outputs": [
    {
     "name": "stdout",
     "output_type": "stream",
     "text": [
      "tensor([[-3.0486, -0.0486],\n",
      "        [-1.3133, -0.3133]])\n"
     ]
    },
    {
     "name": "stderr",
     "output_type": "stream",
     "text": [
      "C:\\Users\\user01\\AppData\\Local\\Temp\\ipykernel_21480\\1576038448.py:3: UserWarning: Implicit dimension choice for log_softmax has been deprecated. Change the call to include dim=X as an argument.\n",
      "  test = F.log_softmax(test)\n"
     ]
    }
   ],
   "source": [
    "test = [[2,5],[1,2]]\n",
    "test = torch.Tensor(test)\n",
    "test = F.log_softmax(test)\n",
    "print(test)"
   ],
   "metadata": {
    "collapsed": false,
    "ExecuteTime": {
     "end_time": "2024-02-27T09:54:45.042724700Z",
     "start_time": "2024-02-27T09:54:45.012640800Z"
    }
   },
   "id": "8ec59de2fa0d0698"
  },
  {
   "cell_type": "code",
   "execution_count": 2,
   "outputs": [
    {
     "name": "stdout",
     "output_type": "stream",
     "text": [
      "tensor([[0.0000, 0.2000, 0.2000, 0.2000],\n",
      "        [1.1000, 1.1000, 1.1000, 1.1000],\n",
      "        [2.0000, 2.1000, 2.2000, 2.0000]])\n"
     ]
    },
    {
     "name": "stderr",
     "output_type": "stream",
     "text": [
      "C:\\Users\\user01\\AppData\\Local\\Temp\\ipykernel_13144\\2783261316.py:8: DeprecationWarning: an integer is required (got type float).  Implicit conversion to integers using __int__ is deprecated, and may be removed in a future version of Python.\n",
      "  length = torch.LongTensor([\n"
     ]
    }
   ],
   "source": [
    "import torch\n",
    "input = [\n",
    "    [0.0, 0.1, 0.2, 0.3],\n",
    "    [1.0, 1.1, 1.2, 1.3],\n",
    "    [2.0, 2.1, 2.2, 2.3]\n",
    "]#shape [3,4]\n",
    "input = torch.tensor(input)\n",
    "length = torch.LongTensor([\n",
    "    [0.8,2,2,2],\n",
    "    [1,1,1,1],\n",
    "    [0,1,2,0]\n",
    "])#[3,4]\n",
    "out = torch.gather(input, dim=1, index=length)\n",
    "print(out)"
   ],
   "metadata": {
    "collapsed": false,
    "ExecuteTime": {
     "end_time": "2024-03-01T07:47:25.428165200Z",
     "start_time": "2024-03-01T07:47:25.407221600Z"
    }
   },
   "id": "c290feea60c81ca9"
  }
 ],
 "metadata": {
  "kernelspec": {
   "display_name": "Python 3",
   "language": "python",
   "name": "python3"
  },
  "language_info": {
   "codemirror_mode": {
    "name": "ipython",
    "version": 2
   },
   "file_extension": ".py",
   "mimetype": "text/x-python",
   "name": "python",
   "nbconvert_exporter": "python",
   "pygments_lexer": "ipython2",
   "version": "2.7.6"
  }
 },
 "nbformat": 4,
 "nbformat_minor": 5
}
