{
 "cells": [
  {
   "cell_type": "code",
   "execution_count": 1,
   "id": "initial_id",
   "metadata": {
    "collapsed": true,
    "ExecuteTime": {
     "end_time": "2024-02-27T09:32:20.101823700Z",
     "start_time": "2024-02-27T09:32:13.137889Z"
    }
   },
   "outputs": [],
   "source": [
    "import torch\n",
    "input = torch.rand((8,2,256,256))"
   ]
  },
  {
   "cell_type": "code",
   "execution_count": 7,
   "outputs": [
    {
     "name": "stdout",
     "output_type": "stream",
     "text": [
      "torch.Size([524288, 2])\n"
     ]
    },
    {
     "name": "stderr",
     "output_type": "stream",
     "text": [
      "C:\\Users\\user01\\AppData\\Local\\Temp\\ipykernel_21480\\3538703934.py:10: UserWarning: Implicit dimension choice for log_softmax has been deprecated. Change the call to include dim=X as an argument.\n",
      "  input = F.log_softmax(input)\n"
     ]
    }
   ],
   "source": [
    "import torch.nn.functional as F\n",
    "# N,C,H,W => N,C,H*W\n",
    "input = input.contiguous().view(input.size(0), input.size(1), -1)\n",
    "\n",
    "# N,C,H*W => N,H*W,C\n",
    "input = input.transpose(1, 2)\n",
    "\n",
    "# N,H*W,C => N*H*W,C\n",
    "input = input.contiguous().view(-1, input.size(2))\n",
    "input = F.log_softmax(input)\n",
    "print(input.shape)"
   ],
   "metadata": {
    "collapsed": false,
    "ExecuteTime": {
     "end_time": "2024-02-27T09:48:31.484618100Z",
     "start_time": "2024-02-27T09:48:31.419303200Z"
    }
   },
   "id": "89c5050a90394c50"
  },
  {
   "cell_type": "code",
   "execution_count": 14,
   "outputs": [
    {
     "name": "stdout",
     "output_type": "stream",
     "text": [
      "tensor([[-3.0486, -0.0486],\n",
      "        [-1.3133, -0.3133]])\n"
     ]
    },
    {
     "name": "stderr",
     "output_type": "stream",
     "text": [
      "C:\\Users\\user01\\AppData\\Local\\Temp\\ipykernel_21480\\1576038448.py:3: UserWarning: Implicit dimension choice for log_softmax has been deprecated. Change the call to include dim=X as an argument.\n",
      "  test = F.log_softmax(test)\n"
     ]
    }
   ],
   "source": [
    "test = [[2,5],[1,2]]\n",
    "test = torch.Tensor(test)\n",
    "test = F.log_softmax(test)\n",
    "print(test)"
   ],
   "metadata": {
    "collapsed": false,
    "ExecuteTime": {
     "end_time": "2024-02-27T09:54:45.042724700Z",
     "start_time": "2024-02-27T09:54:45.012640800Z"
    }
   },
   "id": "8ec59de2fa0d0698"
  }
 ],
 "metadata": {
  "kernelspec": {
   "display_name": "Python 3",
   "language": "python",
   "name": "python3"
  },
  "language_info": {
   "codemirror_mode": {
    "name": "ipython",
    "version": 2
   },
   "file_extension": ".py",
   "mimetype": "text/x-python",
   "name": "python",
   "nbconvert_exporter": "python",
   "pygments_lexer": "ipython2",
   "version": "2.7.6"
  }
 },
 "nbformat": 4,
 "nbformat_minor": 5
}
